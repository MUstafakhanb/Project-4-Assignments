{
  "nbformat": 4,
  "nbformat_minor": 0,
  "metadata": {
    "colab": {
      "provenance": [],
      "authorship_tag": "ABX9TyPLTE+ZvobPLkBTnMr3odk6",
      "include_colab_link": true
    },
    "kernelspec": {
      "name": "python3",
      "display_name": "Python 3"
    },
    "language_info": {
      "name": "python"
    }
  },
  "cells": [
    {
      "cell_type": "markdown",
      "metadata": {
        "id": "view-in-github",
        "colab_type": "text"
      },
      "source": [
        "<a href=\"https://colab.research.google.com/github/MUstafakhanb/Project-4-Assignments/blob/main/00_intro_python.ipynb\" target=\"_parent\"><img src=\"https://colab.research.google.com/assets/colab-badge.svg\" alt=\"Open In Colab\"/></a>"
      ]
    },
    {
      "cell_type": "code",
      "execution_count": 2,
      "metadata": {
        "colab": {
          "base_uri": "https://localhost:8080/"
        },
        "id": "ml2qWdqHv7pJ",
        "outputId": "44d10390-eccd-4778-8c77-ead0175d4f86"
      },
      "outputs": [
        {
          "output_type": "stream",
          "name": "stdout",
          "text": [
            "01_add_two_numbers\n",
            "This application is for adding two numbers\n",
            "Enter your first number: 5\n",
            "Enter your second number: 8\n",
            "The total sum of 5 and 8 is 13\n"
          ]
        }
      ],
      "source": [
        "print(\"01_add_two_numbers\")\n",
        "\n",
        "def add():\n",
        "    print(\"This application is for adding two numbers\")\n",
        "    first_number = int(input(\"Enter your first number: \"))\n",
        "    second_number = int(input(\"Enter your second number: \"))\n",
        "    total = first_number + second_number\n",
        "    print(f'The total sum of {first_number} and {second_number} is {total}')\n",
        "\n",
        "if __name__ == \"__main__\":\n",
        "    add()\n"
      ]
    },
    {
      "cell_type": "code",
      "source": [
        "print(\"02_agreement_bot\")\n",
        "\n",
        "def bot():\n",
        "  animal = str(input(\"What is your favorite animal?\"))\n",
        "  print(f'My favorite animal is also {animal}!')\n",
        "\n",
        "if __name__ == \"__main__\":\n",
        "  bot()"
      ],
      "metadata": {
        "colab": {
          "base_uri": "https://localhost:8080/"
        },
        "id": "eGNv6E6WwuMh",
        "outputId": "87a31059-6fb9-4b0b-eb3e-ac3d928ba221"
      },
      "execution_count": 5,
      "outputs": [
        {
          "output_type": "stream",
          "name": "stdout",
          "text": [
            "02_agreement_bot\n",
            "What is your favorite animal?Lion\n",
            "My favorite animal is also Lion!\n"
          ]
        }
      ]
    },
    {
      "cell_type": "code",
      "source": [
        "print(\"03_fahrenheit_to_celsius\")\n",
        "\n",
        "def temp():\n",
        "  print(\"This code for converting fahrenheit to celsius\")\n",
        "  fahrenheit_degree = float(input(\"Enter your fahrenheit degree\"))\n",
        "  celsius_degree = (fahrenheit_degree - 32) * 5.0/9.0\n",
        "  print(f'Temperature {fahrenheit_degree} = {celsius_degree}')\n",
        "\n",
        "if __name__ == \"__main__\":\n",
        "    temp()"
      ],
      "metadata": {
        "colab": {
          "base_uri": "https://localhost:8080/"
        },
        "id": "olXE_-Gp1YF4",
        "outputId": "47411ebf-014c-48b9-de11-03771131517f"
      },
      "execution_count": 7,
      "outputs": [
        {
          "output_type": "stream",
          "name": "stdout",
          "text": [
            "03_fahrenheit_to_celsius\n",
            "This code for converting fahrenheit to celsius\n",
            "Enter your fahrenheit degree67\n",
            "Temperature 67.0 = 19.444444444444443\n"
          ]
        }
      ]
    },
    {
      "cell_type": "code",
      "source": [
        "\n",
        "print(\"04_how_old_are_they\")\n",
        "\n",
        "def add__ages():\n",
        "  anthon:int = 21\n",
        "  beth:int = anthon + 6\n",
        "  chen:int = beth - 20\n",
        "  drew:int = chen + anthon\n",
        "  ethan:int = chen\n",
        "\n",
        "  print(\"Anthon is\" +str(anthon))\n",
        "  print(\"Beth is\" +str(beth))\n",
        "  print(\"Chen is\" +str(chen))\n",
        "  print(\"Drew is\" +str(drew))\n",
        "  print(\"Ethan is\" +str(ethan))\n",
        "\n",
        "if __name__ == \"__main__\":\n",
        "    add__ages()"
      ],
      "metadata": {
        "colab": {
          "base_uri": "https://localhost:8080/"
        },
        "id": "NnVuSZGA3LnB",
        "outputId": "44d2e6fd-28e6-40c4-a10e-3a8e0a2ab74d"
      },
      "execution_count": 13,
      "outputs": [
        {
          "output_type": "stream",
          "name": "stdout",
          "text": [
            "04_how_old_are_they\n",
            "Anthon is21\n",
            "Beth is27\n",
            "Chen is7\n",
            "Drew is28\n",
            "Ethan is7\n"
          ]
        }
      ]
    },
    {
      "cell_type": "code",
      "source": [
        "print(\"05_triangle_perimeter.\")\n",
        "\n",
        "def triangle():\n",
        "  print(\"This code is about perimeter of triangle sides\")\n",
        "  side1:float = float(input(\"Enter your first side no of triangle.\"))\n",
        "  side2:float = float(input(\"Enter your second side no of triangle.\"))\n",
        "  side3:float = float(input(\"Enter your third side no of triangle.\"))\n",
        "  total:float = float(side1 + side2 + side3)\n",
        "  print(f'The sum of {side1}, {side2} and {side3} is {total}')\n",
        "\n",
        "if __name__ == \"__main__\":\n",
        "    triangle()\n",
        "\n"
      ],
      "metadata": {
        "colab": {
          "base_uri": "https://localhost:8080/"
        },
        "id": "mK53GFzc9teX",
        "outputId": "627b20e4-1e29-4054-804b-db5c56237ccf"
      },
      "execution_count": 16,
      "outputs": [
        {
          "output_type": "stream",
          "name": "stdout",
          "text": [
            "05_triangle_perimeter.\n",
            "This code is about perimeter of triangle sides\n",
            "Enter your first side no of triangle.5\n",
            "Enter your second side no of triangle.3\n",
            "Enter your third side no of triangle.2\n",
            "The sum of 5.0, 3.0 and 2.0 is 10.0\n"
          ]
        }
      ]
    },
    {
      "cell_type": "code",
      "source": [
        "print(\"06_square_number\")\n",
        "\n",
        "def square():\n",
        "  print(\"This code is about square of given number\")\n",
        "  num1:int = int(input(\"Enter any number and i will give u a square value. \"))\n",
        "  print(f'The square of {num1} is {num1 ** 2}')\n",
        "\n",
        "if __name__ == \"__main__\":\n",
        "    square()\n",
        "\n"
      ],
      "metadata": {
        "colab": {
          "base_uri": "https://localhost:8080/"
        },
        "id": "EXhIagTzBi82",
        "outputId": "7bf384b2-6c4f-4c59-8a85-77a472e4d51a"
      },
      "execution_count": 17,
      "outputs": [
        {
          "output_type": "stream",
          "name": "stdout",
          "text": [
            "06_square_number\n",
            "This code is about square of given number\n",
            "Enter any number and i will give u a square value. 5\n",
            "The square of 5 is 25\n"
          ]
        }
      ]
    }
  ]
}